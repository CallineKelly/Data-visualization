{
  "nbformat": 4,
  "nbformat_minor": 0,
  "metadata": {
    "colab": {
      "provenance": [],
      "authorship_tag": "ABX9TyP2jV1jPYMg/xFIvBofY6sb",
      "include_colab_link": true
    },
    "kernelspec": {
      "name": "python3",
      "display_name": "Python 3"
    },
    "language_info": {
      "name": "python"
    }
  },
  "cells": [
    {
      "cell_type": "markdown",
      "metadata": {
        "id": "view-in-github",
        "colab_type": "text"
      },
      "source": [
        "<a href=\"https://colab.research.google.com/github/CallineKelly/Data-visualization/blob/main/multiply.ipynb\" target=\"_parent\"><img src=\"https://colab.research.google.com/assets/colab-badge.svg\" alt=\"Open In Colab\"/></a>"
      ]
    },
    {
      "cell_type": "code",
      "execution_count": null,
      "metadata": {
        "id": "i-0L7la26QbI"
      },
      "outputs": [],
      "source": [
        "# *args for int\n",
        "# multiply with more flexible\n",
        "def multiplier(*args):  #eg: (1,2,3)\n",
        "  z = 1\n",
        "  for num in args:\n",
        "    z *=num #shorthand for z = z * num: 1*1 =1, 1*2 =2, 2*3 =6\n",
        "  print(z)"
      ]
    },
    {
      "cell_type": "code",
      "source": [
        "multiplier(1,2,3)"
      ],
      "metadata": {
        "colab": {
          "base_uri": "https://localhost:8080/"
        },
        "id": "G5ux0JxQ8P7q",
        "outputId": "57a14dc2-5508-43cf-8c91-3be0d09a7c74"
      },
      "execution_count": null,
      "outputs": [
        {
          "output_type": "stream",
          "name": "stdout",
          "text": [
            "6\n"
          ]
        }
      ]
    },
    {
      "cell_type": "code",
      "source": [
        "#  order drink with only 1 choice\n",
        "def order_drink(size):\n",
        "  print(f'Customer ordered a {size} drink.') #'f' string is to insert the variable\n",
        "\n",
        "order_drink('Regular')"
      ],
      "metadata": {
        "colab": {
          "base_uri": "https://localhost:8080/"
        },
        "id": "o1AiD2tz8eTf",
        "outputId": "10911ec9-96ce-4f20-ee02-3a525bfb8c28"
      },
      "execution_count": null,
      "outputs": [
        {
          "output_type": "stream",
          "name": "stdout",
          "text": [
            "Customer ordered a Regular drink.\n"
          ]
        }
      ]
    },
    {
      "cell_type": "code",
      "source": [
        "#  order drink by using *args\n",
        "def order_drink(size,*args):\n",
        "  print(f'Customer ordered a {size} drink.')\n",
        "  print(f'unpacking args:', *args) #unpacking\n",
        "  print(f'with tuples: {args}')\n",
        "order_drink('Regular','Tea','Pearl')"
      ],
      "metadata": {
        "colab": {
          "base_uri": "https://localhost:8080/"
        },
        "id": "ejhR62gy9o7L",
        "outputId": "582fb7c5-62e2-4d08-c5db-c4f5edfb9348"
      },
      "execution_count": null,
      "outputs": [
        {
          "output_type": "stream",
          "name": "stdout",
          "text": [
            "Customer ordered a Regular drink.\n",
            "unpacking args: Tea Pearl\n",
            "with tuples: ('Tea', 'Pearl')\n"
          ]
        }
      ]
    },
    {
      "cell_type": "code",
      "source": [
        "#  order drink by using *args\n",
        "def order_drink(size, *mixes):\n",
        "  print(f'Customer ordered a {size} drink.')\n",
        "  for item in mixes:\n",
        "    print(f'- {item}') #'item' access 'mixes' in sequence\n",
        "\n",
        "order_drink('Regular','Tea','Pearl','less sugar')"
      ],
      "metadata": {
        "colab": {
          "base_uri": "https://localhost:8080/"
        },
        "id": "UNXDC_K5_X6-",
        "outputId": "73d4b652-08ee-48a6-ae97-9649c64002c4"
      },
      "execution_count": null,
      "outputs": [
        {
          "output_type": "stream",
          "name": "stdout",
          "text": [
            "Customer ordered a Regular drink.\n",
            "- Tea\n",
            "- Pearl\n",
            "- less sugar\n"
          ]
        }
      ]
    },
    {
      "cell_type": "code",
      "source": [
        "# **kwargs only for keywords\n",
        "def order_drink(size, *mixes, **details):\n",
        "  print(f'Customer ordered a {size} drink.')\n",
        "  for item in mixes:\n",
        "    print(f'- {item}') #'item' access 'mixes' in sequence\n",
        "\n",
        "  print('Order details:')\n",
        "  for key, value in details.items(): # use for loop to access dictionary key value\n",
        "    print(f'- {key}: {value}')"
      ],
      "metadata": {
        "id": "8VxxfVzGBBpy"
      },
      "execution_count": null,
      "outputs": []
    },
    {
      "cell_type": "code",
      "source": [
        "order_drink('Regular','Tea','Pearl','Less Sugar', order_type='Pick-up', tips=2)"
      ],
      "metadata": {
        "colab": {
          "base_uri": "https://localhost:8080/"
        },
        "id": "aF7FUQWzDVyw",
        "outputId": "f2408ceb-04e1-46b1-c6be-24605df19283"
      },
      "execution_count": null,
      "outputs": [
        {
          "output_type": "stream",
          "name": "stdout",
          "text": [
            "Customer ordered a Regular drink.\n",
            "- Tea\n",
            "- Pearl\n",
            "- Less Sugar\n",
            "Order details:\n",
            "- order_type: Pick-up\n",
            "- tips: 2\n"
          ]
        }
      ]
    },
    {
      "cell_type": "code",
      "source": [
        "# **kwargs only for keywords\n",
        "def order_drink(size, *mixes, **details):\n",
        "  print(f'Customer ordered a {size} drink.')\n",
        "  for item in mixes:\n",
        "    print(f'- {item}') #'item' access 'mixes' in sequence\n",
        "\n",
        "  print('\\nOrder details:')\n",
        "  if 'order_type' in details: #**kwargs\n",
        "    print(f'- {details[\"order_type\"]} Order')\n",
        "  if 'tips' in details and details['tips']>0:\n",
        "    print(f'- Rider Tips: ${details[\"tips\"]}')"
      ],
      "metadata": {
        "id": "E2WhtJMoHoKt"
      },
      "execution_count": null,
      "outputs": []
    },
    {
      "cell_type": "code",
      "source": [
        "order_drink('Regular','Tea','Pearl','Less Sugar', order_type='Pick-up',tips=5)"
      ],
      "metadata": {
        "colab": {
          "base_uri": "https://localhost:8080/"
        },
        "id": "ru8p1VKBJB2O",
        "outputId": "629297c8-e4e0-452c-9043-0b8fbc48308e"
      },
      "execution_count": null,
      "outputs": [
        {
          "output_type": "stream",
          "name": "stdout",
          "text": [
            "Customer ordered a Regular drink.\n",
            "- Tea\n",
            "- Pearl\n",
            "- Less Sugar\n",
            "\n",
            "Order details:\n",
            "- Pick-up Order\n",
            "- Rider Tips: $5\n"
          ]
        }
      ]
    }
  ]
}