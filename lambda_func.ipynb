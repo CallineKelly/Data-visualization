{
  "nbformat": 4,
  "nbformat_minor": 0,
  "metadata": {
    "colab": {
      "provenance": [],
      "authorship_tag": "ABX9TyORqktuISu8q4W1i4Udr1YD",
      "include_colab_link": true
    },
    "kernelspec": {
      "name": "python3",
      "display_name": "Python 3"
    },
    "language_info": {
      "name": "python"
    }
  },
  "cells": [
    {
      "cell_type": "markdown",
      "metadata": {
        "id": "view-in-github",
        "colab_type": "text"
      },
      "source": [
        "<a href=\"https://colab.research.google.com/github/CallineKelly/Data-visualization/blob/main/lambda_func.ipynb\" target=\"_parent\"><img src=\"https://colab.research.google.com/assets/colab-badge.svg\" alt=\"Open In Colab\"/></a>"
      ]
    },
    {
      "cell_type": "markdown",
      "source": [
        "Lambda Function / Anonymous Functions\n",
        "- every short function only run in 1 line code"
      ],
      "metadata": {
        "id": "yZSUC6hUoEbI"
      }
    },
    {
      "cell_type": "code",
      "execution_count": 2,
      "metadata": {
        "colab": {
          "base_uri": "https://localhost:8080/"
        },
        "id": "8nOyFh4_mXvc",
        "outputId": "5594ff04-9898-4df2-bd62-9e9b20048d81"
      },
      "outputs": [
        {
          "output_type": "stream",
          "name": "stdout",
          "text": [
            "27\n"
          ]
        }
      ],
      "source": [
        "def cube(x):\n",
        "  return x * x * x\n",
        "\n",
        "print(cube(3))"
      ]
    },
    {
      "cell_type": "code",
      "source": [
        "cube_lambda = lambda x: x * x * x\n",
        "\n",
        "print(cube_lambda(4))"
      ],
      "metadata": {
        "colab": {
          "base_uri": "https://localhost:8080/"
        },
        "id": "fULT_6K6o9Yb",
        "outputId": "e4549956-6a4a-4baa-800a-d87a31fae63c"
      },
      "execution_count": 4,
      "outputs": [
        {
          "output_type": "stream",
          "name": "stdout",
          "text": [
            "64\n"
          ]
        }
      ]
    },
    {
      "cell_type": "code",
      "source": [
        "def add(x, y):\n",
        "  return x + y\n",
        "\n",
        "add_lambda = lambda x, y: x + y\n",
        "\n",
        "print(add_lambda(3, 21))"
      ],
      "metadata": {
        "colab": {
          "base_uri": "https://localhost:8080/"
        },
        "id": "0IreNgWhpj2Y",
        "outputId": "a0f20ca1-3cba-4b21-b778-e2167b7bbd29"
      },
      "execution_count": 7,
      "outputs": [
        {
          "output_type": "stream",
          "name": "stdout",
          "text": [
            "24\n"
          ]
        }
      ]
    },
    {
      "cell_type": "code",
      "source": [
        "def compare(x,y):\n",
        "  if x > y:\n",
        "    return x\n",
        "  else:\n",
        "    return y\n",
        "print(compare(7,23))"
      ],
      "metadata": {
        "colab": {
          "base_uri": "https://localhost:8080/"
        },
        "id": "oGYI9zKsr9t8",
        "outputId": "19026234-c864-4bf2-8c16-ad791b878d1d"
      },
      "execution_count": 9,
      "outputs": [
        {
          "output_type": "stream",
          "name": "stdout",
          "text": [
            "23\n"
          ]
        }
      ]
    },
    {
      "cell_type": "code",
      "source": [
        "larger_lambda = lambda x, y: x if x > y else y\n",
        "\n",
        "print(larger_lambda(8, 9))"
      ],
      "metadata": {
        "colab": {
          "base_uri": "https://localhost:8080/"
        },
        "id": "NduVUZy6sGA-",
        "outputId": "c7dbfa81-1e7f-4325-b2fe-e7a20cd7ba52"
      },
      "execution_count": 15,
      "outputs": [
        {
          "output_type": "stream",
          "name": "stdout",
          "text": [
            "9\n"
          ]
        }
      ]
    },
    {
      "cell_type": "markdown",
      "source": [
        "currency exchange"
      ],
      "metadata": {
        "id": "MwG3IkGyu95W"
      }
    },
    {
      "cell_type": "code",
      "source": [
        "def cx_rate(rate):\n",
        "\n",
        "    def convert(currency):\n",
        "      return currency * rate\n",
        "\n",
        "    return convert\n",
        "\n",
        "usd_myr = cx_rate(4.3) # define 4.3 into 'rate'\n",
        "print(usd_myr(200)) #'currency' = 200"
      ],
      "metadata": {
        "colab": {
          "base_uri": "https://localhost:8080/"
        },
        "id": "AhhiQOYEu6Eo",
        "outputId": "6c72638d-ca62-410c-e3d6-baf7404fcaa7"
      },
      "execution_count": 18,
      "outputs": [
        {
          "output_type": "stream",
          "name": "stdout",
          "text": [
            "860.0\n"
          ]
        }
      ]
    },
    {
      "cell_type": "code",
      "source": [
        "def cx_rate(rate):\n",
        "   return lambda currency: currency * rate\n",
        "\n",
        "sgd_myr = cx_rate(3.5)\n",
        "print(sgd_myr(150))"
      ],
      "metadata": {
        "colab": {
          "base_uri": "https://localhost:8080/"
        },
        "id": "7A94hanRxXQl",
        "outputId": "a12ffa47-8936-4025-8b16-8abc2d165f33"
      },
      "execution_count": 20,
      "outputs": [
        {
          "output_type": "stream",
          "name": "stdout",
          "text": [
            "525.0\n"
          ]
        }
      ]
    },
    {
      "cell_type": "code",
      "source": [
        "# sort name based on the length\n",
        "names = ['Calline','Nora','Stella','Addison']\n",
        "names.sort(key=lambda x: len(x))\n",
        "print(names)"
      ],
      "metadata": {
        "colab": {
          "base_uri": "https://localhost:8080/"
        },
        "id": "8EMhtYAPz2_4",
        "outputId": "07d78501-8b78-4a7f-ac65-4321af30ac32"
      },
      "execution_count": 21,
      "outputs": [
        {
          "output_type": "stream",
          "name": "stdout",
          "text": [
            "['Nora', 'Stella', 'Calline', 'Addison']\n"
          ]
        }
      ]
    },
    {
      "cell_type": "code",
      "source": [
        "def name_length(name):\n",
        "  return len(name)\n",
        "\n",
        "new_names = ['Kinsley','Lila','Kaylee']\n",
        "new_names.sort(key=name_length)\n",
        "print(new_names)"
      ],
      "metadata": {
        "colab": {
          "base_uri": "https://localhost:8080/"
        },
        "id": "xi-ZEdof0zjh",
        "outputId": "26cf5f12-8d81-40f5-b299-ab63058dcfeb"
      },
      "execution_count": 24,
      "outputs": [
        {
          "output_type": "stream",
          "name": "stdout",
          "text": [
            "['Lila', 'Kaylee', 'Kinsley']\n"
          ]
        }
      ]
    }
  ]
}